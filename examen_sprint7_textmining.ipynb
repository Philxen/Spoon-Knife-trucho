{
  "nbformat": 4,
  "nbformat_minor": 0,
  "metadata": {
    "colab": {
      "provenance": [],
      "authorship_tag": "ABX9TyOjopQmphp4BkWjuRRE06sB",
      "include_colab_link": true
    },
    "kernelspec": {
      "name": "python3",
      "display_name": "Python 3"
    },
    "language_info": {
      "name": "python"
    }
  },
  "cells": [
    {
      "cell_type": "markdown",
      "metadata": {
        "id": "view-in-github",
        "colab_type": "text"
      },
      "source": [
        "<a href=\"https://colab.research.google.com/github/Philxen/Spoon-Knife-trucho/blob/main/examen_sprint7_textmining.ipynb\" target=\"_parent\"><img src=\"https://colab.research.google.com/assets/colab-badge.svg\" alt=\"Open In Colab\"/></a>"
      ]
    },
    {
      "cell_type": "markdown",
      "source": [
        "#Consignes¶\n",
        "\n",
        "L'exercice est composé de plusieurs questions, faites-les dans l'ordre et faites attention à respecter le nom des variables. Si vous rencontrez des problèmes, merci de consulter le lien suivant : https://help.datascientest.com/fr/b2c/knowledgebase/comment-contacter-le-support.\n",
        "\n",
        "\n",
        "L'examen est composé de deux sections : une première section où il vous sera demandé de réaliser un word cloud à partir des derniers discours prononcés par Donald Trump, que vous aurez au préalable nettoyé et mis en forme (utilisation des expressions régulières, tokenisation, stop words filtering). Dans la deuxième section, il vous sera demandé de construire un modèle simple de machine learning pour effectuer une analyse de sentiments sur les différents paragraphes de ces mêmes discours.\n",
        "\n",
        "\n",
        "   Vous avez toujours accès à la documentation d'une fonction en tapant help(nom_fonction) dans une cellule.\n",
        "\n",
        "#1. Préparation des données\n",
        "Dans cette première partie, nous allons explorer notre jeu de données et le nettoyer. Le jeu de données que nous allons utiliser contient des extraits des discours de Donald Trump lors de sa campagne de 2016.\n",
        "\n",
        "(a) À l'aide du package pandas, importer les données contenues dans le fichier \"trump.csv\" dans un DataFrame nommé df.\n",
        "\n",
        "(b) Afficher les 10 premières lignes du dataset."
      ],
      "metadata": {
        "id": "GVFPAadhGm5S"
      }
    },
    {
      "cell_type": "code",
      "source": [
        "# Lire le fichier texte\n",
        "\n",
        "import re\n",
        "\n",
        "# Lire le fichier texte\n",
        "with open('/content/sample_data/trump.txt', 'r') as file:\n",
        "    lines = file.readlines()\n",
        "\n",
        "# Remplacer les ' par \" au début et à la fin de chaque ligne\n",
        "lines = ['\"' + line.strip().strip(\"'\") + '\"' for line in lines]\n",
        "\n",
        "# Écrire les lignes modifiées dans le fichier\n",
        "with open('trump_modified.txt', 'w') as file:\n",
        "    file.write('\\n'.join(lines))"
      ],
      "metadata": {
        "id": "4Z0amBmIYo0e"
      },
      "execution_count": 29,
      "outputs": []
    },
    {
      "cell_type": "code",
      "execution_count": 43,
      "metadata": {
        "id": "Ds-x6Zt3GenQ"
      },
      "outputs": [],
      "source": [
        "import pandas as pd\n",
        "\n",
        "df = pd.read_csv(\"/content/trump_modified.txt\", sep = '|', header=None)\n",
        "df[0] = df[0].str.replace(\"^'|'$\", '\"')\n",
        "df.dropna(inplace=True)\n",
        "df = df.rename(columns={0: \"Paroles\", 1: \"Sentiment\"})\n",
        "df['Sentiment'] = df['Sentiment'].str.replace('\"', '')\n",
        "df.head(40)\n",
        "df.Sentiment.value_counts()\n",
        "df.to_csv(\"trump_post.csv\")"
      ]
    },
    {
      "cell_type": "markdown",
      "source": [
        "(c) Créer une chaîne de caractères nommée paroles contenant la concaténation de toutes les entrées de la colonne \"Paroles\" de df. On fera attention à insérer un espace entre chaque ligne.\n",
        "\n",
        "   Veillez, au cours de l'examen, à ne pas afficher le contenu global de la variable paroles car ceci risque de prendre plusieurs minutes."
      ],
      "metadata": {
        "id": "R4Zt0wHmHHAc"
      }
    },
    {
      "cell_type": "code",
      "source": [
        "df=pd.read_csv(\"/content/trump_post.csv\")\n",
        "df.head()"
      ],
      "metadata": {
        "colab": {
          "base_uri": "https://localhost:8080/",
          "height": 206
        },
        "id": "k5nNkkkwHMhV",
        "outputId": "0df44ecc-74bb-4f4e-cd0d-c8523f25a1a2"
      },
      "execution_count": 45,
      "outputs": [
        {
          "output_type": "execute_result",
          "data": {
            "text/plain": [
              "   Unnamed: 0                                            Paroles  Sentiment\n",
              "0           0  Thank you. You know, I\\'m I\\'m here for Claudi...   Positive\n",
              "1           2  I think I know about a third of them, maybe a ...   Positive\n",
              "2           4  New York Republican state committee. And I thi...   Negative\n",
              "3           6  We don't get it. You look at what's happened i...   Negative\n",
              "4           8  Because stuff flows -- do you understand that?...   Negative"
            ],
            "text/html": [
              "\n",
              "  <div id=\"df-5c9c66e2-568d-4691-8c8b-1ca0fc5d8b11\" class=\"colab-df-container\">\n",
              "    <div>\n",
              "<style scoped>\n",
              "    .dataframe tbody tr th:only-of-type {\n",
              "        vertical-align: middle;\n",
              "    }\n",
              "\n",
              "    .dataframe tbody tr th {\n",
              "        vertical-align: top;\n",
              "    }\n",
              "\n",
              "    .dataframe thead th {\n",
              "        text-align: right;\n",
              "    }\n",
              "</style>\n",
              "<table border=\"1\" class=\"dataframe\">\n",
              "  <thead>\n",
              "    <tr style=\"text-align: right;\">\n",
              "      <th></th>\n",
              "      <th>Unnamed: 0</th>\n",
              "      <th>Paroles</th>\n",
              "      <th>Sentiment</th>\n",
              "    </tr>\n",
              "  </thead>\n",
              "  <tbody>\n",
              "    <tr>\n",
              "      <th>0</th>\n",
              "      <td>0</td>\n",
              "      <td>Thank you. You know, I\\'m I\\'m here for Claudi...</td>\n",
              "      <td>Positive</td>\n",
              "    </tr>\n",
              "    <tr>\n",
              "      <th>1</th>\n",
              "      <td>2</td>\n",
              "      <td>I think I know about a third of them, maybe a ...</td>\n",
              "      <td>Positive</td>\n",
              "    </tr>\n",
              "    <tr>\n",
              "      <th>2</th>\n",
              "      <td>4</td>\n",
              "      <td>New York Republican state committee. And I thi...</td>\n",
              "      <td>Negative</td>\n",
              "    </tr>\n",
              "    <tr>\n",
              "      <th>3</th>\n",
              "      <td>6</td>\n",
              "      <td>We don't get it. You look at what's happened i...</td>\n",
              "      <td>Negative</td>\n",
              "    </tr>\n",
              "    <tr>\n",
              "      <th>4</th>\n",
              "      <td>8</td>\n",
              "      <td>Because stuff flows -- do you understand that?...</td>\n",
              "      <td>Negative</td>\n",
              "    </tr>\n",
              "  </tbody>\n",
              "</table>\n",
              "</div>\n",
              "    <div class=\"colab-df-buttons\">\n",
              "\n",
              "  <div class=\"colab-df-container\">\n",
              "    <button class=\"colab-df-convert\" onclick=\"convertToInteractive('df-5c9c66e2-568d-4691-8c8b-1ca0fc5d8b11')\"\n",
              "            title=\"Convert this dataframe to an interactive table.\"\n",
              "            style=\"display:none;\">\n",
              "\n",
              "  <svg xmlns=\"http://www.w3.org/2000/svg\" height=\"24px\" viewBox=\"0 -960 960 960\">\n",
              "    <path d=\"M120-120v-720h720v720H120Zm60-500h600v-160H180v160Zm220 220h160v-160H400v160Zm0 220h160v-160H400v160ZM180-400h160v-160H180v160Zm440 0h160v-160H620v160ZM180-180h160v-160H180v160Zm440 0h160v-160H620v160Z\"/>\n",
              "  </svg>\n",
              "    </button>\n",
              "\n",
              "  <style>\n",
              "    .colab-df-container {\n",
              "      display:flex;\n",
              "      gap: 12px;\n",
              "    }\n",
              "\n",
              "    .colab-df-convert {\n",
              "      background-color: #E8F0FE;\n",
              "      border: none;\n",
              "      border-radius: 50%;\n",
              "      cursor: pointer;\n",
              "      display: none;\n",
              "      fill: #1967D2;\n",
              "      height: 32px;\n",
              "      padding: 0 0 0 0;\n",
              "      width: 32px;\n",
              "    }\n",
              "\n",
              "    .colab-df-convert:hover {\n",
              "      background-color: #E2EBFA;\n",
              "      box-shadow: 0px 1px 2px rgba(60, 64, 67, 0.3), 0px 1px 3px 1px rgba(60, 64, 67, 0.15);\n",
              "      fill: #174EA6;\n",
              "    }\n",
              "\n",
              "    .colab-df-buttons div {\n",
              "      margin-bottom: 4px;\n",
              "    }\n",
              "\n",
              "    [theme=dark] .colab-df-convert {\n",
              "      background-color: #3B4455;\n",
              "      fill: #D2E3FC;\n",
              "    }\n",
              "\n",
              "    [theme=dark] .colab-df-convert:hover {\n",
              "      background-color: #434B5C;\n",
              "      box-shadow: 0px 1px 3px 1px rgba(0, 0, 0, 0.15);\n",
              "      filter: drop-shadow(0px 1px 2px rgba(0, 0, 0, 0.3));\n",
              "      fill: #FFFFFF;\n",
              "    }\n",
              "  </style>\n",
              "\n",
              "    <script>\n",
              "      const buttonEl =\n",
              "        document.querySelector('#df-5c9c66e2-568d-4691-8c8b-1ca0fc5d8b11 button.colab-df-convert');\n",
              "      buttonEl.style.display =\n",
              "        google.colab.kernel.accessAllowed ? 'block' : 'none';\n",
              "\n",
              "      async function convertToInteractive(key) {\n",
              "        const element = document.querySelector('#df-5c9c66e2-568d-4691-8c8b-1ca0fc5d8b11');\n",
              "        const dataTable =\n",
              "          await google.colab.kernel.invokeFunction('convertToInteractive',\n",
              "                                                    [key], {});\n",
              "        if (!dataTable) return;\n",
              "\n",
              "        const docLinkHtml = 'Like what you see? Visit the ' +\n",
              "          '<a target=\"_blank\" href=https://colab.research.google.com/notebooks/data_table.ipynb>data table notebook</a>'\n",
              "          + ' to learn more about interactive tables.';\n",
              "        element.innerHTML = '';\n",
              "        dataTable['output_type'] = 'display_data';\n",
              "        await google.colab.output.renderOutput(dataTable, element);\n",
              "        const docLink = document.createElement('div');\n",
              "        docLink.innerHTML = docLinkHtml;\n",
              "        element.appendChild(docLink);\n",
              "      }\n",
              "    </script>\n",
              "  </div>\n",
              "\n",
              "\n",
              "<div id=\"df-704dd632-b948-4e51-9965-106339360269\">\n",
              "  <button class=\"colab-df-quickchart\" onclick=\"quickchart('df-704dd632-b948-4e51-9965-106339360269')\"\n",
              "            title=\"Suggest charts\"\n",
              "            style=\"display:none;\">\n",
              "\n",
              "<svg xmlns=\"http://www.w3.org/2000/svg\" height=\"24px\"viewBox=\"0 0 24 24\"\n",
              "     width=\"24px\">\n",
              "    <g>\n",
              "        <path d=\"M19 3H5c-1.1 0-2 .9-2 2v14c0 1.1.9 2 2 2h14c1.1 0 2-.9 2-2V5c0-1.1-.9-2-2-2zM9 17H7v-7h2v7zm4 0h-2V7h2v10zm4 0h-2v-4h2v4z\"/>\n",
              "    </g>\n",
              "</svg>\n",
              "  </button>\n",
              "\n",
              "<style>\n",
              "  .colab-df-quickchart {\n",
              "      --bg-color: #E8F0FE;\n",
              "      --fill-color: #1967D2;\n",
              "      --hover-bg-color: #E2EBFA;\n",
              "      --hover-fill-color: #174EA6;\n",
              "      --disabled-fill-color: #AAA;\n",
              "      --disabled-bg-color: #DDD;\n",
              "  }\n",
              "\n",
              "  [theme=dark] .colab-df-quickchart {\n",
              "      --bg-color: #3B4455;\n",
              "      --fill-color: #D2E3FC;\n",
              "      --hover-bg-color: #434B5C;\n",
              "      --hover-fill-color: #FFFFFF;\n",
              "      --disabled-bg-color: #3B4455;\n",
              "      --disabled-fill-color: #666;\n",
              "  }\n",
              "\n",
              "  .colab-df-quickchart {\n",
              "    background-color: var(--bg-color);\n",
              "    border: none;\n",
              "    border-radius: 50%;\n",
              "    cursor: pointer;\n",
              "    display: none;\n",
              "    fill: var(--fill-color);\n",
              "    height: 32px;\n",
              "    padding: 0;\n",
              "    width: 32px;\n",
              "  }\n",
              "\n",
              "  .colab-df-quickchart:hover {\n",
              "    background-color: var(--hover-bg-color);\n",
              "    box-shadow: 0 1px 2px rgba(60, 64, 67, 0.3), 0 1px 3px 1px rgba(60, 64, 67, 0.15);\n",
              "    fill: var(--button-hover-fill-color);\n",
              "  }\n",
              "\n",
              "  .colab-df-quickchart-complete:disabled,\n",
              "  .colab-df-quickchart-complete:disabled:hover {\n",
              "    background-color: var(--disabled-bg-color);\n",
              "    fill: var(--disabled-fill-color);\n",
              "    box-shadow: none;\n",
              "  }\n",
              "\n",
              "  .colab-df-spinner {\n",
              "    border: 2px solid var(--fill-color);\n",
              "    border-color: transparent;\n",
              "    border-bottom-color: var(--fill-color);\n",
              "    animation:\n",
              "      spin 1s steps(1) infinite;\n",
              "  }\n",
              "\n",
              "  @keyframes spin {\n",
              "    0% {\n",
              "      border-color: transparent;\n",
              "      border-bottom-color: var(--fill-color);\n",
              "      border-left-color: var(--fill-color);\n",
              "    }\n",
              "    20% {\n",
              "      border-color: transparent;\n",
              "      border-left-color: var(--fill-color);\n",
              "      border-top-color: var(--fill-color);\n",
              "    }\n",
              "    30% {\n",
              "      border-color: transparent;\n",
              "      border-left-color: var(--fill-color);\n",
              "      border-top-color: var(--fill-color);\n",
              "      border-right-color: var(--fill-color);\n",
              "    }\n",
              "    40% {\n",
              "      border-color: transparent;\n",
              "      border-right-color: var(--fill-color);\n",
              "      border-top-color: var(--fill-color);\n",
              "    }\n",
              "    60% {\n",
              "      border-color: transparent;\n",
              "      border-right-color: var(--fill-color);\n",
              "    }\n",
              "    80% {\n",
              "      border-color: transparent;\n",
              "      border-right-color: var(--fill-color);\n",
              "      border-bottom-color: var(--fill-color);\n",
              "    }\n",
              "    90% {\n",
              "      border-color: transparent;\n",
              "      border-bottom-color: var(--fill-color);\n",
              "    }\n",
              "  }\n",
              "</style>\n",
              "\n",
              "  <script>\n",
              "    async function quickchart(key) {\n",
              "      const quickchartButtonEl =\n",
              "        document.querySelector('#' + key + ' button');\n",
              "      quickchartButtonEl.disabled = true;  // To prevent multiple clicks.\n",
              "      quickchartButtonEl.classList.add('colab-df-spinner');\n",
              "      try {\n",
              "        const charts = await google.colab.kernel.invokeFunction(\n",
              "            'suggestCharts', [key], {});\n",
              "      } catch (error) {\n",
              "        console.error('Error during call to suggestCharts:', error);\n",
              "      }\n",
              "      quickchartButtonEl.classList.remove('colab-df-spinner');\n",
              "      quickchartButtonEl.classList.add('colab-df-quickchart-complete');\n",
              "    }\n",
              "    (() => {\n",
              "      let quickchartButtonEl =\n",
              "        document.querySelector('#df-704dd632-b948-4e51-9965-106339360269 button');\n",
              "      quickchartButtonEl.style.display =\n",
              "        google.colab.kernel.accessAllowed ? 'block' : 'none';\n",
              "    })();\n",
              "  </script>\n",
              "</div>\n",
              "    </div>\n",
              "  </div>\n"
            ],
            "application/vnd.google.colaboratory.intrinsic+json": {
              "type": "dataframe",
              "variable_name": "df",
              "summary": "{\n  \"name\": \"df\",\n  \"rows\": 938,\n  \"fields\": [\n    {\n      \"column\": \"Unnamed: 0\",\n      \"properties\": {\n        \"dtype\": \"number\",\n        \"std\": 656,\n        \"min\": 0,\n        \"max\": 2232,\n        \"num_unique_values\": 938,\n        \"samples\": [\n          154,\n          764,\n          2044\n        ],\n        \"semantic_type\": \"\",\n        \"description\": \"\"\n      }\n    },\n    {\n      \"column\": \"Paroles\",\n      \"properties\": {\n        \"dtype\": \"string\",\n        \"num_unique_values\": 938,\n        \"samples\": [\n          \"So -- but very shortly it will be, we'll be saying history. Manufacturing wages are expected to rise at the fastest rate in more than 17 years. And 95 percent of American manufacturers, which I love, that's what we love is manufacturers -- are optimistic about the future.\",\n          \"So we have a House that's getting ready to finalize an immigration package that they're going to brief me on later, and that I'm going to make changes to. We have one chance to get it right. We might as well get it right, or let's just keep it going. But let's do it right. We have a chance.\",\n          \"We will never forget the historic crowds, that voice, the energy, and the profound faith of a preacher named Billy Graham. [Applause] Great man and great family. Franklin Graham. Great family. And they were for us -- I'll tell you, they were for us. Right from the beginning they were for us.\"\n        ],\n        \"semantic_type\": \"\",\n        \"description\": \"\"\n      }\n    },\n    {\n      \"column\": \"Sentiment\",\n      \"properties\": {\n        \"dtype\": \"category\",\n        \"num_unique_values\": 3,\n        \"samples\": [\n          \" Positive\",\n          \" Negative\",\n          \"  Neutral\"\n        ],\n        \"semantic_type\": \"\",\n        \"description\": \"\"\n      }\n    }\n  ]\n}"
            }
          },
          "metadata": {},
          "execution_count": 45
        }
      ]
    },
    {
      "cell_type": "markdown",
      "source": [
        "Dans le texte, on retrouve les réactions du public indiquées par des crochets, [Applause] par exemple.\n",
        "\n",
        "\n",
        "(d) Créer une variable test contenant la chaîne de caractères: Hello World! [Applause] How are you ?."
      ],
      "metadata": {
        "id": "dA1z77_RHNSw"
      }
    },
    {
      "cell_type": "code",
      "source": [],
      "metadata": {
        "id": "ZVw9gdUQHU6L"
      },
      "execution_count": null,
      "outputs": []
    },
    {
      "cell_type": "markdown",
      "source": [
        "(e) En utilisant la librairie re, créer une fonction nommée remove_brackets qui prend en entrée une chaîne de caractères et qui remplace les mots entre crochets par des espaces.\n",
        "\n",
        "(f) Appliquer cette fonction sur test pour vérifier son efficacité."
      ],
      "metadata": {
        "id": "F6aJgujwHV0Q"
      }
    },
    {
      "cell_type": "code",
      "source": [],
      "metadata": {
        "id": "KbA9fsdKHaRI"
      },
      "execution_count": null,
      "outputs": []
    },
    {
      "cell_type": "markdown",
      "source": [
        "(g) Appliquer la fonction remove_brackets à la chaîne paroles."
      ],
      "metadata": {
        "id": "OzamSVv3Ha5j"
      }
    },
    {
      "cell_type": "code",
      "source": [],
      "metadata": {
        "id": "Ems_g7N6HfLR"
      },
      "execution_count": null,
      "outputs": []
    },
    {
      "cell_type": "markdown",
      "source": [
        "(h) À l'aide de la librairie nltk, créer une variable nommée stop_words contenant les mots d'arrêt usuels de la langue anglaise ainsi que les caractères et mots suivants:\n",
        "\n",
        "[\"?\", \"!\", \".\", \",\", \":\", \";\", \"-\", \"--\", \"...\", \"\"\", \"'\", \"they've\", \"they're\", \"they'll\", \"i've\", \"i'm\", \"i'll\", \"could\"]"
      ],
      "metadata": {
        "id": "v33Va62HHf5L"
      }
    },
    {
      "cell_type": "code",
      "source": [],
      "metadata": {
        "id": "KpbdgR0-Hls9"
      },
      "execution_count": null,
      "outputs": []
    },
    {
      "cell_type": "markdown",
      "source": [
        "La fonction word_tokenize du sous-module nltk.tokenize considère les contractions (\"we'll\", \"didn't\", etc.) comme deux mots différents. Pour éviter cela, nous utiliserons la classe TweetTokenizer qui, elle, ne fait pas cette distinction.\n",
        "\n",
        "\n",
        "(i) Importer la classe TweetTokenizer du package nltk.tokenize.\n",
        "\n",
        "(j) Instancier la classe TweetTokenizer dans un objet tokenizer.\n",
        "\n",
        "(k) Appliquer la méthode tokenize de tokenizer sur paroles et stocker le résultat dans une variable nommée tokens."
      ],
      "metadata": {
        "id": "xzoPn6U4HqKR"
      }
    },
    {
      "cell_type": "code",
      "source": [],
      "metadata": {
        "id": "PHtdlWGkHt1c"
      },
      "execution_count": null,
      "outputs": []
    },
    {
      "cell_type": "markdown",
      "source": [
        "(l) Afficher le nombre total de mots ainsi que le nombre de mots différents trouvés dans ces discours."
      ],
      "metadata": {
        "id": "Wyjd86NWHypI"
      }
    },
    {
      "cell_type": "code",
      "source": [],
      "metadata": {
        "id": "lwn8YgONHxj8"
      },
      "execution_count": null,
      "outputs": []
    },
    {
      "cell_type": "markdown",
      "source": [
        "(m) Retirer tous les stop words de la liste tokens."
      ],
      "metadata": {
        "id": "ZuT6-pY2H0mo"
      }
    },
    {
      "cell_type": "code",
      "source": [],
      "metadata": {
        "id": "gJHdF6E-H34L"
      },
      "execution_count": null,
      "outputs": []
    },
    {
      "cell_type": "markdown",
      "source": [
        "(m) Afficher le nombre total de mots."
      ],
      "metadata": {
        "id": "N2PdAEBqH4Yi"
      }
    },
    {
      "cell_type": "code",
      "source": [],
      "metadata": {
        "id": "FSkdxZTFH8Zw"
      },
      "execution_count": null,
      "outputs": []
    },
    {
      "cell_type": "markdown",
      "source": [
        "#2. Construction du word cloud\n",
        "Dans cette partie, nous allons construire un wordcloud à partir de la variable tokens.\n",
        "\n",
        "(a) Importer la classe WordCloud du module wordcloud.\n",
        "\n",
        "(b) Instancier le calque du nuage de mot wc à partir de la classe WordCloud, en prenant pour paramètres :\n",
        "\n",
        "- Une couleur de fond blanche\n",
        "- Un maximum de mots à afficher égal à 1000.\n",
        "- Une police de taille maximale égale à 90.\n",
        "- collocations sur False.\n",
        "- random_state fixé à 42.\n",
        "- mask fixé avec la variable mask instanciée ci-dessous.\n",
        "\n",
        "(c) À l'aide du sous-module matploblib.pyplot, afficher le nuage de mots."
      ],
      "metadata": {
        "id": "DiIziFweH8yP"
      }
    },
    {
      "cell_type": "code",
      "source": [
        "from PIL import Image\n",
        "import numpy as np\n",
        "\n",
        "mask = np.array(Image.open(\"trump.jpg\"))\n",
        "\n",
        "# Insérez votre code ici"
      ],
      "metadata": {
        "id": "Gfk2p0xDILQb"
      },
      "execution_count": null,
      "outputs": []
    },
    {
      "cell_type": "markdown",
      "source": [
        "On souhaite personnaliser le wordcloud, notamment modifier les couleurs du texte, pour que celui-ci prenne automatiquement les couleurs de l'image d'origine.\n",
        "\n",
        "(d) Importer la classe ImageColorGenerator du module wordcloud.\n",
        "\n",
        "(e) Instancier un objet de type ImageColorGenerator nommé img_color en précisant en argument du constructeur la variable mask précédemment créée.\n",
        "\n",
        "(f) Utiliser la méthode recolor de la classe WordCloud et lui donner comme argument color_func=img_color.\n",
        "- Pour plus de lissage sur les lettres, utiliser l'option interpolation=\"bilinear\" dans la fonction imshow de pyplot.\n",
        "\n",
        "(g) Retirer les axes de votre graphique.\n",
        "\n",
        "(h) Afficher de nouveau le wordcloud."
      ],
      "metadata": {
        "id": "Wms1xmYyISAt"
      }
    },
    {
      "cell_type": "code",
      "source": [],
      "metadata": {
        "id": "Kt5qFux5IfTY"
      },
      "execution_count": null,
      "outputs": []
    },
    {
      "cell_type": "markdown",
      "source": [
        "#3. Analyse de sentiment\n",
        "Dans cette partie, nous allons essayer de créer un modèle d'analyse de sentiment sur ce jeu de données.\n",
        "\n",
        "(a) Importer la fonction train_test_split du sous-module sklearn.model_selection.\n",
        "\n",
        "(b) Créer une Series X contenant la colonne \"Paroles\" de df ainsi qu'une Series y contenant la colonne \"Sentiment\".\n",
        "\n",
        "(c) À l'aide de la fonction train_test_split, créer les jeux de données X_train, X_test, y_train et y_test. On prendra une taille de jeu de test équivalente à 25% du jeu de données total."
      ],
      "metadata": {
        "id": "nzrm6oZoIj7y"
      }
    },
    {
      "cell_type": "code",
      "source": [],
      "metadata": {
        "id": "on5pZL_8IsAJ"
      },
      "execution_count": null,
      "outputs": []
    },
    {
      "cell_type": "markdown",
      "source": [
        "La seconde étape est la vectorisation, elle consiste à convertir chaque paragraphe des différents discours en une représentation numérique. Cela passe par la création d'un corpus et d'une matrice termes-documents.\n",
        "\n",
        "(d) Importer la classe CountVectorizer du sous-module sklearn.feature_extraction.text.\n",
        "\n",
        "(e) Instancier la classe CountVectorizer dans un objet nommé vectorizer.\n",
        "\n",
        "(f) Appliquer les méthodes fit_transform et transform de vectorizer sur X_train et X_test respectivement."
      ],
      "metadata": {
        "id": "lcueGtqIIsoc"
      }
    },
    {
      "cell_type": "code",
      "source": [],
      "metadata": {
        "id": "4vWWsf25IwPW"
      },
      "execution_count": null,
      "outputs": []
    },
    {
      "cell_type": "markdown",
      "source": [
        "Nous allons à présent entraîner un arbre de décision et un modèle GradientBoostingClassifier.\n",
        "\n",
        "(g) Entraîner un arbre de décision nommé decision_tree sur X_train avec les hyperparamètres par défaut (sous-module sklearn.tree).\n",
        "\n",
        "(h) Entraîner un GradientBoostingClassifier nommé gradient_boosting sur X_train avec les hyperparamètres par défaut (sous-module sklearn.ensemble)."
      ],
      "metadata": {
        "id": "4iY_i99iIxBD"
      }
    },
    {
      "cell_type": "code",
      "source": [],
      "metadata": {
        "id": "RBBIVld9I2c1"
      },
      "execution_count": null,
      "outputs": []
    },
    {
      "cell_type": "markdown",
      "source": [
        "(i) A l'aide de l'accuracy sur le jeu de test, comparer les performances des deux algorithmes."
      ],
      "metadata": {
        "id": "z89ydgHrI5tJ"
      }
    },
    {
      "cell_type": "code",
      "source": [],
      "metadata": {
        "id": "XltgNB3UI61w"
      },
      "execution_count": null,
      "outputs": []
    },
    {
      "cell_type": "markdown",
      "source": [
        "(j) Afficher les matrices de confusion de ces deux algorithmes sur le jeu de test. Quel sentiment est difficile à détecter ?"
      ],
      "metadata": {
        "id": "uYq55kPtI7S3"
      }
    },
    {
      "cell_type": "code",
      "source": [],
      "metadata": {
        "id": "t964tRZxI_FZ"
      },
      "execution_count": null,
      "outputs": []
    }
  ]
}