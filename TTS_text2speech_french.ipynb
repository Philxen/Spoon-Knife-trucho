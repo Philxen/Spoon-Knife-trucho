{
  "nbformat": 4,
  "nbformat_minor": 0,
  "metadata": {
    "colab": {
      "provenance": [],
      "authorship_tag": "ABX9TyMrHvQwdrmooTYXxAWtdFJ0",
      "include_colab_link": true
    },
    "kernelspec": {
      "name": "python3",
      "display_name": "Python 3"
    },
    "language_info": {
      "name": "python"
    }
  },
  "cells": [
    {
      "cell_type": "markdown",
      "metadata": {
        "id": "view-in-github",
        "colab_type": "text"
      },
      "source": [
        "<a href=\"https://colab.research.google.com/github/Philxen/Spoon-Knife-trucho/blob/main/TTS_text2speech_french.ipynb\" target=\"_parent\"><img src=\"https://colab.research.google.com/assets/colab-badge.svg\" alt=\"Open In Colab\"/></a>"
      ]
    },
    {
      "cell_type": "code",
      "execution_count": null,
      "metadata": {
        "id": "LN18JV5KJv9N"
      },
      "outputs": [],
      "source": [
        "! pip install gtts\n",
        "from gtts import gTTS\n",
        "import os\n",
        "!pip install pydub\n",
        "from pydub import AudioSegment\n",
        "import io\n",
        "\n",
        "os.chdir('/content/sample_data/')"
      ]
    },
    {
      "cell_type": "code",
      "source": [
        "# Retrieve text content from file\n",
        "\n",
        "text_file = 'H52.txt'\n",
        "\n",
        "contenu = io.open(text_file, encoding='utf8').read()"
      ],
      "metadata": {
        "id": "GN8snPq-P0lx"
      },
      "execution_count": null,
      "outputs": []
    },
    {
      "cell_type": "code",
      "source": [
        "# Convert text to audio\n",
        "\n",
        "language = 'fr'\n",
        "\n",
        "textSpeech = gTTS(text=contenu, lang=language, slow=False)\n",
        "\n",
        "textSpeech.save('audio_speed.mp3')"
      ],
      "metadata": {
        "id": "2TXUcK2CQFDh"
      },
      "execution_count": null,
      "outputs": []
    },
    {
      "cell_type": "code",
      "source": [
        "# Reduce audio speed\n",
        "\n",
        "audio = AudioSegment.from_file(\"audio_speed.mp3\", format=\"mp3\")\n",
        "\n",
        "final = audio.speedup(playback_speed=1.25) # speed down by 20%"
      ],
      "metadata": {
        "id": "-mu3_QGRS0iR"
      },
      "execution_count": null,
      "outputs": []
    },
    {
      "cell_type": "code",
      "source": [
        "# export to mp3 file\n",
        "\n",
        "clean_audio = text_file.split('.')[0] + \".mp3\"\n",
        "\n",
        "final.export(clean_audio, format=\"mp3\")"
      ],
      "metadata": {
        "colab": {
          "base_uri": "https://localhost:8080/"
        },
        "id": "wnO4MbrFVMJd",
        "outputId": "262f6160-22c3-49c2-ee95-bf9c65fa1db5"
      },
      "execution_count": null,
      "outputs": [
        {
          "output_type": "execute_result",
          "data": {
            "text/plain": [
              "<_io.BufferedRandom name='H52.mp3'>"
            ]
          },
          "metadata": {},
          "execution_count": 9
        }
      ]
    }
  ]
}